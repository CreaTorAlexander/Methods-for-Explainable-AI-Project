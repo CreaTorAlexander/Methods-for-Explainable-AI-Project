{
 "cells": [
  {
   "cell_type": "markdown",
   "metadata": {},
   "source": [
    "## Methods for Explainable AI\n",
    "### Demonstration"
   ]
  },
  {
   "cell_type": "code",
   "execution_count": 1,
   "metadata": {},
   "outputs": [],
   "source": [
    "import pandas as pd\n",
    "from sklearn.ensemble import GradientBoostingRegressor, GradientBoostingClassifier\n",
    "from sklearn.inspection import partial_dependence, plot_partial_dependence\n",
    "from sklearn.impute import SimpleImputer\n",
    "from sklearn.metrics import mean_squared_error\n",
    "from sklearn.model_selection import train_test_split\n",
    "from sklearn import preprocessing\n",
    "\n",
    "from sklearn.inspection import PartialDependenceDisplay\n",
    "\n",
    "import matplotlib.pyplot as plt\n",
    "\n",
    "\n",
    "import numpy as np\n",
    "\n"
   ]
  },
  {
   "cell_type": "markdown",
   "metadata": {},
   "source": [
    "## Loading the Dataset"
   ]
  },
  {
   "cell_type": "code",
   "execution_count": 2,
   "metadata": {},
   "outputs": [
    {
     "name": "stdout",
     "output_type": "stream",
     "text": [
      "    Unnamed: 0      Suburb              Address  Rooms Type      Price Method  \\\n",
      "0            1  Abbotsford         85 Turner St      2    h  1480000.0      S   \n",
      "1            2  Abbotsford      25 Bloomburg St      2    h  1035000.0      S   \n",
      "2            4  Abbotsford         5 Charles St      3    h  1465000.0     SP   \n",
      "3            5  Abbotsford     40 Federation La      3    h   850000.0     PI   \n",
      "4            6  Abbotsford          55a Park St      4    h  1600000.0     VB   \n",
      "5           10  Abbotsford       129 Charles St      2    h   941000.0      S   \n",
      "6           11  Abbotsford         124 Yarra St      3    h  1876000.0      S   \n",
      "7           14  Abbotsford        98 Charles St      2    h  1636000.0      S   \n",
      "8           15  Abbotsford     217 Langridge St      3    h  1000000.0      S   \n",
      "9           16  Abbotsford      18a Mollison St      2    t   745000.0      S   \n",
      "10          17  Abbotsford   6/241 Nicholson St      1    u   300000.0      S   \n",
      "11          18  Abbotsford        10 Valiant St      2    h  1097000.0      S   \n",
      "12          19  Abbotsford  403/609 Victoria St      2    u   542000.0      S   \n",
      "13          21  Abbotsford    25/84 Trenerry Cr      2    u   760000.0     SP   \n",
      "14          22  Abbotsford    106/119 Turner St      1    u   481000.0     SP   \n",
      "15          23  Abbotsford   411/8 Grosvenor St      2    u   700000.0     VB   \n",
      "16          24  Abbotsford      40 Nicholson St      3    h  1350000.0     VB   \n",
      "17          25  Abbotsford  123/56 Nicholson St      2    u   750000.0      S   \n",
      "18          26  Abbotsford           22 Park St      4    h  1985000.0      S   \n",
      "19          27  Abbotsford    13/84 Trenerry Cr      1    u   500000.0      S   \n",
      "\n",
      "         SellerG        Date  Distance  ...  Bathroom  Car  Landsize  \\\n",
      "0         Biggin   3/12/2016       2.5  ...       1.0  1.0     202.0   \n",
      "1         Biggin   4/02/2016       2.5  ...       1.0  0.0     156.0   \n",
      "2         Biggin   4/03/2017       2.5  ...       2.0  0.0     134.0   \n",
      "3         Biggin   4/03/2017       2.5  ...       2.0  1.0      94.0   \n",
      "4         Nelson   4/06/2016       2.5  ...       1.0  2.0     120.0   \n",
      "5         Jellis   7/05/2016       2.5  ...       1.0  0.0     181.0   \n",
      "6         Nelson   7/05/2016       2.5  ...       2.0  0.0     245.0   \n",
      "7         Nelson   8/10/2016       2.5  ...       1.0  2.0     256.0   \n",
      "8         Jellis   8/10/2016       2.5  ...       NaN  NaN       NaN   \n",
      "9         Jellis   8/10/2016       2.5  ...       NaN  NaN       NaN   \n",
      "10        Biggin   8/10/2016       2.5  ...       1.0  1.0       0.0   \n",
      "11        Biggin   8/10/2016       2.5  ...       1.0  2.0     220.0   \n",
      "12        Dingle   8/10/2016       2.5  ...       NaN  NaN       NaN   \n",
      "13        Biggin  10/12/2016       2.5  ...       NaN  NaN       NaN   \n",
      "14  Purplebricks  10/12/2016       2.5  ...       NaN  NaN       NaN   \n",
      "15        Jellis  12/11/2016       2.5  ...       2.0  1.0       0.0   \n",
      "16        Nelson  12/11/2016       2.5  ...       2.0  2.0     214.0   \n",
      "17        Biggin  12/11/2016       2.5  ...       2.0  1.0       0.0   \n",
      "18        Biggin  12/11/2016       2.5  ...       NaN  NaN       NaN   \n",
      "19        Biggin  12/11/2016       2.5  ...       NaN  NaN       NaN   \n",
      "\n",
      "    BuildingArea  YearBuilt  CouncilArea  Lattitude Longtitude  \\\n",
      "0            NaN        NaN        Yarra   -37.7996   144.9984   \n",
      "1           79.0     1900.0        Yarra   -37.8079   144.9934   \n",
      "2          150.0     1900.0        Yarra   -37.8093   144.9944   \n",
      "3            NaN        NaN        Yarra   -37.7969   144.9969   \n",
      "4          142.0     2014.0        Yarra   -37.8072   144.9941   \n",
      "5            NaN        NaN        Yarra   -37.8041   144.9953   \n",
      "6          210.0     1910.0        Yarra   -37.8024   144.9993   \n",
      "7          107.0     1890.0        Yarra   -37.8060   144.9954   \n",
      "8            NaN        NaN          NaN        NaN        NaN   \n",
      "9            NaN        NaN          NaN        NaN        NaN   \n",
      "10           NaN        NaN        Yarra   -37.8008   144.9973   \n",
      "11          75.0     1900.0        Yarra   -37.8010   144.9989   \n",
      "12           NaN        NaN          NaN        NaN        NaN   \n",
      "13           NaN        NaN          NaN        NaN        NaN   \n",
      "14           NaN        NaN          NaN        NaN        NaN   \n",
      "15           NaN        NaN        Yarra   -37.8110   145.0067   \n",
      "16         190.0     2005.0        Yarra   -37.8085   144.9964   \n",
      "17          94.0     2009.0        Yarra   -37.8078   144.9965   \n",
      "18           NaN        NaN          NaN   -37.8084   144.9942   \n",
      "19           NaN        NaN          NaN        NaN        NaN   \n",
      "\n",
      "               Regionname  Propertycount  \n",
      "0   Northern Metropolitan         4019.0  \n",
      "1   Northern Metropolitan         4019.0  \n",
      "2   Northern Metropolitan         4019.0  \n",
      "3   Northern Metropolitan         4019.0  \n",
      "4   Northern Metropolitan         4019.0  \n",
      "5   Northern Metropolitan         4019.0  \n",
      "6   Northern Metropolitan         4019.0  \n",
      "7   Northern Metropolitan         4019.0  \n",
      "8   Northern Metropolitan         4019.0  \n",
      "9   Northern Metropolitan         4019.0  \n",
      "10  Northern Metropolitan         4019.0  \n",
      "11  Northern Metropolitan         4019.0  \n",
      "12  Northern Metropolitan         4019.0  \n",
      "13  Northern Metropolitan         4019.0  \n",
      "14  Northern Metropolitan         4019.0  \n",
      "15  Northern Metropolitan         4019.0  \n",
      "16  Northern Metropolitan         4019.0  \n",
      "17  Northern Metropolitan         4019.0  \n",
      "18  Northern Metropolitan         4019.0  \n",
      "19  Northern Metropolitan         4019.0  \n",
      "\n",
      "[20 rows x 22 columns]\n"
     ]
    }
   ],
   "source": [
    "data = pd.read_csv('./melb_data.csv')\n",
    "print(data.head(20))\n"
   ]
  },
  {
   "cell_type": "markdown",
   "metadata": {},
   "source": [
    "## Imputation, Normalization and Training"
   ]
  },
  {
   "cell_type": "code",
   "execution_count": 3,
   "metadata": {},
   "outputs": [
    {
     "ename": "NameError",
     "evalue": "name 'y' is not defined",
     "output_type": "error",
     "traceback": [
      "\u001b[0;31m---------------------------------------------------------------------------\u001b[0m",
      "\u001b[0;31mNameError\u001b[0m                                 Traceback (most recent call last)",
      "\u001b[1;32m/Users/alexanderhess/Desktop/Methods-for-Explainable/demonstration.ipynb Cell 6\u001b[0m in \u001b[0;36m<cell line: 13>\u001b[0;34m()\u001b[0m\n\u001b[1;32m      <a href='vscode-notebook-cell:/Users/alexanderhess/Desktop/Methods-for-Explainable/demonstration.ipynb#W5sZmlsZQ%3D%3D?line=7'>8</a>\u001b[0m imputer \u001b[39m=\u001b[39m SimpleImputer(missing_values\u001b[39m=\u001b[39mnp\u001b[39m.\u001b[39mnan, strategy\u001b[39m=\u001b[39m\u001b[39m'\u001b[39m\u001b[39mmean\u001b[39m\u001b[39m'\u001b[39m)\n\u001b[1;32m      <a href='vscode-notebook-cell:/Users/alexanderhess/Desktop/Methods-for-Explainable/demonstration.ipynb#W5sZmlsZQ%3D%3D?line=8'>9</a>\u001b[0m imputed_X \u001b[39m=\u001b[39m imputer\u001b[39m.\u001b[39mfit_transform(x)\n\u001b[0;32m---> <a href='vscode-notebook-cell:/Users/alexanderhess/Desktop/Methods-for-Explainable/demonstration.ipynb#W5sZmlsZQ%3D%3D?line=12'>13</a>\u001b[0m xtrain, xtest, ytrain, ytest\u001b[39m=\u001b[39mtrain_test_split(imputed_X, y, random_state\u001b[39m=\u001b[39m\u001b[39m12\u001b[39m, \n\u001b[1;32m     <a href='vscode-notebook-cell:/Users/alexanderhess/Desktop/Methods-for-Explainable/demonstration.ipynb#W5sZmlsZQ%3D%3D?line=13'>14</a>\u001b[0m              test_size\u001b[39m=\u001b[39m\u001b[39m0.15\u001b[39m)\n\u001b[1;32m     <a href='vscode-notebook-cell:/Users/alexanderhess/Desktop/Methods-for-Explainable/demonstration.ipynb#W5sZmlsZQ%3D%3D?line=16'>17</a>\u001b[0m my_model \u001b[39m=\u001b[39m GradientBoostingRegressor()\n\u001b[1;32m     <a href='vscode-notebook-cell:/Users/alexanderhess/Desktop/Methods-for-Explainable/demonstration.ipynb#W5sZmlsZQ%3D%3D?line=17'>18</a>\u001b[0m my_model\u001b[39m.\u001b[39mfit(xtrain, ytrain)\n",
      "\u001b[0;31mNameError\u001b[0m: name 'y' is not defined"
     ]
    }
   ],
   "source": [
    "cols_to_use = ['Distance', 'Landsize', 'BuildingArea']\n",
    "# cols_to_use = ['Distance', 'Landsize', 'BuildingArea',  'Rooms', 'Longtitude', 'Lattitude']\n",
    "\n",
    "target = data.Price\n",
    "x = data[cols_to_use]\n",
    "\n",
    "\n",
    "imputer = SimpleImputer(missing_values=np.nan, strategy='mean')\n",
    "imputed_X = imputer.fit_transform(x)\n",
    "\n",
    "\n",
    "\n",
    "xtrain, xtest, ytrain, ytest=train_test_split(imputed_X, target, random_state=12, \n",
    "             test_size=0.15)\n",
    "\n",
    "\n",
    "my_model = GradientBoostingRegressor()\n",
    "my_model.fit(xtrain, ytrain)\n",
    "\n",
    "y_pred = my_model.predict(xtest)\n",
    "mse = mean_squared_error(ytest, y_pred)\n",
    "\n",
    "print(\"MSE: %.2f\" % mse)\n",
    "\n",
    "\n",
    "x_ax = range(len(ytest))\n",
    "plt.scatter(x_ax, ytest, s=5, color=\"blue\", label=\"original\")\n",
    "plt.plot(x_ax, y_pred, lw=0.8, color=\"red\", label=\"predicted\")\n",
    "plt.legend()\n",
    "plt.show()\n",
    "\n"
   ]
  },
  {
   "cell_type": "markdown",
   "metadata": {},
   "source": [
    "## PDP's"
   ]
  },
  {
   "cell_type": "code",
   "execution_count": null,
   "metadata": {},
   "outputs": [
    {
     "name": "stderr",
     "output_type": "stream",
     "text": [
      "/Library/Frameworks/Python.framework/Versions/3.10/lib/python3.10/site-packages/sklearn/utils/deprecation.py:87: FutureWarning: Function plot_partial_dependence is deprecated; Function `plot_partial_dependence` is deprecated in 1.0 and will be removed in 1.2. Use PartialDependenceDisplay.from_estimator instead\n",
      "  warnings.warn(msg, category=FutureWarning)\n"
     ]
    },
    {
     "data": {
      "image/png": "[encoded data removed]",
      "text/plain": [
       "<Figure size 432x288 with 3 Axes>"
      ]
     },
     "metadata": {
      "needs_background": "light"
     },
     "output_type": "display_data"
    }
   ],
   "source": [
    "# left one explanation:\n",
    "# Distance in this dataset measures the distance to Melbourne's central business district.\n",
    "\n",
    "# You'll see some negative numbers. \n",
    "# That doesn't mean the price would sell for a negative price. \n",
    "# Instead it means the prices would have been less than the actual average price for that distance.\n",
    "# Nice suburb at kilometer 16\n",
    "\n",
    "# The right graph shows the impact of building area, which is interpreted similarly. A larger building area means higher prices.\n",
    "\n",
    "\n",
    "my_plots = plot_partial_dependence(my_model, \n",
    "                                   features=[0,2], \n",
    "                                   X=xtrain, \n",
    "                                   feature_names=cols_to_use, \n",
    "                                   grid_resolution=10)"
   ]
  },
  {
   "cell_type": "markdown",
   "metadata": {},
   "source": [
    "## Individual Conditional Expectation"
   ]
  },
  {
   "cell_type": "code",
   "execution_count": null,
   "metadata": {},
   "outputs": [
    {
     "ename": "NameError",
     "evalue": "name 'my_model' is not defined",
     "output_type": "error",
     "traceback": [
      "\u001b[0;31m---------------------------------------------------------------------------\u001b[0m",
      "\u001b[0;31mNameError\u001b[0m                                 Traceback (most recent call last)",
      "\u001b[1;32m/Users/alexanderhess/Library/Mobile Documents/com~apple~CloudDocs/Documents/Konstanz/Kurse-Universität-Konstanz/2.Semester/Methods for Explainable AI/Project/examples-visualization-techniques/pdp/pdp.ipynb Cell 10\u001b[0m in \u001b[0;36m<cell line: 1>\u001b[0;34m()\u001b[0m\n\u001b[1;32m      <a href='vscode-notebook-cell:/Users/alexanderhess/Library/Mobile%20Documents/com~apple~CloudDocs/Documents/Konstanz/Kurse-Universita%CC%88t-Konstanz/2.Semester/Methods%20for%20Explainable%20AI/Project/examples-visualization-techniques/pdp/pdp.ipynb#X12sZmlsZQ%3D%3D?line=0'>1</a>\u001b[0m display \u001b[39m=\u001b[39m PartialDependenceDisplay\u001b[39m.\u001b[39mfrom_estimator(\n\u001b[0;32m----> <a href='vscode-notebook-cell:/Users/alexanderhess/Library/Mobile%20Documents/com~apple~CloudDocs/Documents/Konstanz/Kurse-Universita%CC%88t-Konstanz/2.Semester/Methods%20for%20Explainable%20AI/Project/examples-visualization-techniques/pdp/pdp.ipynb#X12sZmlsZQ%3D%3D?line=1'>2</a>\u001b[0m     my_model,\n\u001b[1;32m      <a href='vscode-notebook-cell:/Users/alexanderhess/Library/Mobile%20Documents/com~apple~CloudDocs/Documents/Konstanz/Kurse-Universita%CC%88t-Konstanz/2.Semester/Methods%20for%20Explainable%20AI/Project/examples-visualization-techniques/pdp/pdp.ipynb#X12sZmlsZQ%3D%3D?line=2'>3</a>\u001b[0m     xtrain,\n\u001b[1;32m      <a href='vscode-notebook-cell:/Users/alexanderhess/Library/Mobile%20Documents/com~apple~CloudDocs/Documents/Konstanz/Kurse-Universita%CC%88t-Konstanz/2.Semester/Methods%20for%20Explainable%20AI/Project/examples-visualization-techniques/pdp/pdp.ipynb#X12sZmlsZQ%3D%3D?line=3'>4</a>\u001b[0m     features\u001b[39m=\u001b[39m[\u001b[39m0\u001b[39m,\u001b[39m2\u001b[39m],\n\u001b[1;32m      <a href='vscode-notebook-cell:/Users/alexanderhess/Library/Mobile%20Documents/com~apple~CloudDocs/Documents/Konstanz/Kurse-Universita%CC%88t-Konstanz/2.Semester/Methods%20for%20Explainable%20AI/Project/examples-visualization-techniques/pdp/pdp.ipynb#X12sZmlsZQ%3D%3D?line=4'>5</a>\u001b[0m     feature_names\u001b[39m=\u001b[39mcols_to_use, \n\u001b[1;32m      <a href='vscode-notebook-cell:/Users/alexanderhess/Library/Mobile%20Documents/com~apple~CloudDocs/Documents/Konstanz/Kurse-Universita%CC%88t-Konstanz/2.Semester/Methods%20for%20Explainable%20AI/Project/examples-visualization-techniques/pdp/pdp.ipynb#X12sZmlsZQ%3D%3D?line=5'>6</a>\u001b[0m     kind\u001b[39m=\u001b[39m\u001b[39m\"\u001b[39m\u001b[39mboth\u001b[39m\u001b[39m\"\u001b[39m,\n\u001b[1;32m      <a href='vscode-notebook-cell:/Users/alexanderhess/Library/Mobile%20Documents/com~apple~CloudDocs/Documents/Konstanz/Kurse-Universita%CC%88t-Konstanz/2.Semester/Methods%20for%20Explainable%20AI/Project/examples-visualization-techniques/pdp/pdp.ipynb#X12sZmlsZQ%3D%3D?line=6'>7</a>\u001b[0m )\n\u001b[1;32m      <a href='vscode-notebook-cell:/Users/alexanderhess/Library/Mobile%20Documents/com~apple~CloudDocs/Documents/Konstanz/Kurse-Universita%CC%88t-Konstanz/2.Semester/Methods%20for%20Explainable%20AI/Project/examples-visualization-techniques/pdp/pdp.ipynb#X12sZmlsZQ%3D%3D?line=7'>8</a>\u001b[0m display\u001b[39m.\u001b[39mfigure_\u001b[39m.\u001b[39msuptitle(\n\u001b[1;32m      <a href='vscode-notebook-cell:/Users/alexanderhess/Library/Mobile%20Documents/com~apple~CloudDocs/Documents/Konstanz/Kurse-Universita%CC%88t-Konstanz/2.Semester/Methods%20for%20Explainable%20AI/Project/examples-visualization-techniques/pdp/pdp.ipynb#X12sZmlsZQ%3D%3D?line=8'>9</a>\u001b[0m     \u001b[39m\"\u001b[39m\u001b[39mDataset\u001b[39m\u001b[39m\"\u001b[39m\n\u001b[1;32m     <a href='vscode-notebook-cell:/Users/alexanderhess/Library/Mobile%20Documents/com~apple~CloudDocs/Documents/Konstanz/Kurse-Universita%CC%88t-Konstanz/2.Semester/Methods%20for%20Explainable%20AI/Project/examples-visualization-techniques/pdp/pdp.ipynb#X12sZmlsZQ%3D%3D?line=9'>10</a>\u001b[0m )\n\u001b[1;32m     <a href='vscode-notebook-cell:/Users/alexanderhess/Library/Mobile%20Documents/com~apple~CloudDocs/Documents/Konstanz/Kurse-Universita%CC%88t-Konstanz/2.Semester/Methods%20for%20Explainable%20AI/Project/examples-visualization-techniques/pdp/pdp.ipynb#X12sZmlsZQ%3D%3D?line=10'>11</a>\u001b[0m display\u001b[39m.\u001b[39mfigure_\u001b[39m.\u001b[39msubplots_adjust(hspace\u001b[39m=\u001b[39m\u001b[39m0.3\u001b[39m)\n",
      "\u001b[0;31mNameError\u001b[0m: name 'my_model' is not defined"
     ]
    }
   ],
   "source": [
    "display = PartialDependenceDisplay.from_estimator(\n",
    "    my_model,\n",
    "    xtrain,\n",
    "    features=[0,2],\n",
    "    feature_names=cols_to_use, \n",
    "    kind=\"both\",\n",
    ")\n",
    "display.figure_.suptitle(\n",
    "    \"Dataset\"\n",
    ")\n",
    "display.figure_.subplots_adjust(hspace=0.3)"
   ]
  }
 ],
 "metadata": {
  "kernelspec": {
   "display_name": "Python 3.10.4 64-bit",
   "language": "python",
   "name": "python3"
  },
  "language_info": {
   "codemirror_mode": {
    "name": "ipython",
    "version": 3
   },
   "file_extension": ".py",
   "mimetype": "text/x-python",
   "name": "python",
   "nbconvert_exporter": "python",
   "pygments_lexer": "ipython3",
   "version": "3.10.4"
  },
  "orig_nbformat": 4,
  "vscode": {
   "interpreter": {
    "hash": "aee8b7b246df8f9039afb4144a1f6fd8d2ca17a180786b69acc140d282b71a49"
   }
  }
 },
 "nbformat": 4,
 "nbformat_minor": 2
}
